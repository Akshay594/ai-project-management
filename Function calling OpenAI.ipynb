{
 "cells": [
  {
   "cell_type": "code",
   "execution_count": 4,
   "id": "ddf733df-de93-48b2-acae-52cb13ee9dc8",
   "metadata": {},
   "outputs": [],
   "source": [
    "import json\n",
    "from openai import OpenAI\n",
    "from tenacity import retry, wait_random_exponential, stop_after_attempt\n",
    "from termcolor import colored\n",
    "from dotenv import load_dotenv\n",
    "import os\n",
    "\n",
    "API_KEY = os.getenv(\"API_KEY\")\n",
    "os.environ[\"OPENAI_API_KEY\"] = API_KEY\n",
    "\n",
    "\n",
    "GPT_MODEL = \"gpt-4\"\n",
    "client = OpenAI()"
   ]
  },
  {
   "cell_type": "code",
   "execution_count": 5,
   "id": "ab5eaece-b194-4748-8c0c-8dcd0ab524d5",
   "metadata": {},
   "outputs": [],
   "source": [
    "student_1_description = \"David Nguyen is a sophomore majoring in computer science at Stanford University. He is Asian American and has a 3.8 GPA. David is known for his programming skills and is an active member of the university's Robotics Club. He hopes to pursue a career in artificial intelligence after graduating.\"\n",
    "\n",
    "# A simple prompt to extract information from \"student_description\" in a JSON format.\n",
    "prompt1 = f'''\n",
    "Please extract the following information from the given text and return it as a JSON object:\n",
    "\n",
    "name\n",
    "major\n",
    "school\n",
    "grades\n",
    "club\n",
    "\n",
    "This is the body of text to extract the information from:\n",
    "{student_1_description}\n",
    "'''"
   ]
  },
  {
   "cell_type": "code",
   "execution_count": 6,
   "id": "3ef67709-6a62-4fca-8bbd-723ff15cb9f6",
   "metadata": {},
   "outputs": [
    {
     "data": {
      "text/plain": [
       "\"\\nPlease extract the following information from the given text and return it as a JSON object:\\n\\nname\\nmajor\\nschool\\ngrades\\nclub\\n\\nThis is the body of text to extract the information from:\\nDavid Nguyen is a sophomore majoring in computer science at Stanford University. He is Asian American and has a 3.8 GPA. David is known for his programming skills and is an active member of the university's Robotics Club. He hopes to pursue a career in artificial intelligence after graduating.\\n\""
      ]
     },
     "execution_count": 6,
     "metadata": {},
     "output_type": "execute_result"
    }
   ],
   "source": [
    "prompt1"
   ]
  },
  {
   "cell_type": "code",
   "execution_count": 7,
   "id": "994bf24b-b3ad-45bc-abf2-6e928ae56774",
   "metadata": {},
   "outputs": [
    {
     "data": {
      "text/plain": [
       "'{\\n  \"name\": \"David Nguyen\",\\n  \"major\": \"computer science\",\\n  \"school\": \"Stanford University\",\\n  \"grades\": 3.8,\\n  \"club\": \"Robotics Club\"\\n}'"
      ]
     },
     "execution_count": 7,
     "metadata": {},
     "output_type": "execute_result"
    }
   ],
   "source": [
    "# Generating response back from gpt-3.5-turbo\n",
    "openai_response = client.chat.completions.create(\n",
    "    model = 'gpt-3.5-turbo',\n",
    "    messages = [{'role': 'user', 'content': prompt1}]\n",
    ")\n",
    "\n",
    "openai_response.choices[0].message.content"
   ]
  },
  {
   "cell_type": "code",
   "execution_count": 8,
   "id": "7e098326-2cb0-4e21-a0f5-b1c0118ccddf",
   "metadata": {},
   "outputs": [
    {
     "data": {
      "text/plain": [
       "{'name': 'David Nguyen',\n",
       " 'major': 'computer science',\n",
       " 'school': 'Stanford University',\n",
       " 'grades': 3.8,\n",
       " 'club': 'Robotics Club'}"
      ]
     },
     "execution_count": 8,
     "metadata": {},
     "output_type": "execute_result"
    }
   ],
   "source": [
    "import json\n",
    "\n",
    "json_response = json.loads(openai_response.choices[0].message.content)\n",
    "json_response"
   ]
  },
  {
   "cell_type": "markdown",
   "id": "f5fcd78a-83c1-4088-973a-bd34281c722b",
   "metadata": {},
   "source": [
    "# OpenAI function calling "
   ]
  },
  {
   "cell_type": "code",
   "execution_count": 9,
   "id": "c5424e8c-349b-4c8d-b40a-d1ef2a4751de",
   "metadata": {},
   "outputs": [],
   "source": [
    "student_custom_functions = [\n",
    "    {\n",
    "        'name': 'extract_student_info',\n",
    "        'description': 'Get the student information from the body of the input text',\n",
    "        'parameters': {\n",
    "            'type': 'object',\n",
    "            'properties': {\n",
    "                'name': {\n",
    "                    'type': 'string',\n",
    "                    'description': 'Name of the person'\n",
    "                },\n",
    "                'major': {\n",
    "                    'type': 'string',\n",
    "                    'description': 'Major subject.'\n",
    "                },\n",
    "                'school': {\n",
    "                    'type': 'string',\n",
    "                    'description': 'The university name.'\n",
    "                },\n",
    "                'grades': {\n",
    "                    'type': 'integer',\n",
    "                    'description': 'GPA of the student.'\n",
    "                },\n",
    "                'club': {\n",
    "                    'type': 'string',\n",
    "                    'description': 'School club for extracurricular activities. '\n",
    "                }\n",
    "                \n",
    "            }\n",
    "        }\n",
    "    }\n",
    "]"
   ]
  },
  {
   "cell_type": "code",
   "execution_count": 10,
   "id": "43f21e6a-837a-4806-bd41-2437d114304a",
   "metadata": {},
   "outputs": [],
   "source": [
    "student_2_description=\"Ravi Patel is a sophomore majoring in computer science at the University of Michigan. He is South Asian Indian American and has a 3.7 GPA. Ravi is an active member of the university's Chess Club and the South Asian Student Association. He hopes to pursue a career in software engineering after graduating.\"\n",
    "student_description = [student_1_description,student_2_description]\n"
   ]
  },
  {
   "cell_type": "code",
   "execution_count": 11,
   "id": "11c421d2-0b46-4c8e-a58e-ed3d2680ec2d",
   "metadata": {},
   "outputs": [
    {
     "name": "stdout",
     "output_type": "stream",
     "text": [
      "{}\n",
      "{'name': 'Ravi Patel', 'major': 'computer science', 'school': 'University of Michigan', 'grades': 3.7, 'club': 'Chess Club'}\n"
     ]
    }
   ],
   "source": [
    "for i in student_description:\n",
    "    \n",
    "    response = client.chat.completions.create(\n",
    "        model = 'gpt-3.5-turbo',\n",
    "        messages = [{'role': 'user', 'content': i}],\n",
    "        functions = student_custom_functions,\n",
    "        function_call = 'auto'\n",
    "\n",
    "    )\n",
    "    json_response = json.loads(response.choices[0].message.function_call.arguments)\n",
    "    print(json_response)"
   ]
  },
  {
   "cell_type": "code",
   "execution_count": 12,
   "id": "f80d9ab1-50de-42e8-af1a-6c4a5b425c44",
   "metadata": {},
   "outputs": [],
   "source": [
    "custom_functions = [\n",
    "    {\n",
    "        'name': 'extract_student_info',\n",
    "        'description': 'Get the student information from the body of the input text',\n",
    "        'parameters': {\n",
    "            'type': 'object',\n",
    "            'properties': {\n",
    "                'name': {\n",
    "                    'type': 'string',\n",
    "                    'description': 'Name of the person'\n",
    "                },\n",
    "                'major': {\n",
    "                    'type': 'string',\n",
    "                    'description': 'Major subject.'\n",
    "                },\n",
    "                'school': {\n",
    "                    'type': 'string',\n",
    "                    'description': 'The university name.'\n",
    "                },\n",
    "                'grades': {\n",
    "                    'type': 'integer',\n",
    "                    'description': 'GPA of the student.'\n",
    "                },\n",
    "                'club': {\n",
    "                    'type': 'string',\n",
    "                    'description': 'School club for extracurricular activities. '\n",
    "                }\n",
    "                \n",
    "            }\n",
    "        }\n",
    "    },\n",
    "    {\n",
    "        'name': 'extract_school_info',\n",
    "        'description': 'Get the school information from the body of the input text',\n",
    "        'parameters': {\n",
    "            'type': 'object',\n",
    "            'properties': {\n",
    "                'name': {\n",
    "                    'type': 'string',\n",
    "                    'description': 'Name of the school.'\n",
    "                },\n",
    "                'ranking': {\n",
    "                    'type': 'integer',\n",
    "                    'description': 'QS world ranking of the school.'\n",
    "                },\n",
    "                'country': {\n",
    "                    'type': 'string',\n",
    "                    'description': 'Country of the school.'\n",
    "                },\n",
    "                'no_of_students': {\n",
    "                    'type': 'integer',\n",
    "                    'description': 'Number of students enrolled in the school.'\n",
    "                }\n",
    "            }\n",
    "        }\n",
    "    }\n",
    "]"
   ]
  },
  {
   "cell_type": "code",
   "execution_count": 13,
   "id": "1280a5c0-9214-4a5f-9837-179fc2fcfe08",
   "metadata": {},
   "outputs": [],
   "source": [
    "school_1_description = \"Stanford University is a private research university located in Stanford, California, United States. It was founded in 1885 by Leland Stanford and his wife, Jane Stanford, in memory of their only child, Leland Stanford Jr. The university is ranked #5 in the world by QS World University Rankings. It has over 17,000 students, including about 7,600 undergraduates and 9,500 graduates23. \""
   ]
  },
  {
   "cell_type": "code",
   "execution_count": 14,
   "id": "7282d054-3dc0-4843-b4d2-75f966b3d049",
   "metadata": {},
   "outputs": [
    {
     "name": "stdout",
     "output_type": "stream",
     "text": [
      "{'name': 'David Nguyen', 'major': 'computer science', 'school': 'Stanford University', 'grades': 3.8, 'club': 'Robotics Club'}\n",
      "{'name': 'Stanford University', 'ranking': 5, 'country': 'United States', 'no_of_students': 17000}\n"
     ]
    }
   ],
   "source": [
    "description = [student_1_description, school_1_description]\n",
    "for i in description:\n",
    "    response = client.chat.completions.create(\n",
    "        model = 'gpt-3.5-turbo',\n",
    "        messages = [{'role': 'user', 'content': i}],\n",
    "        functions = custom_functions,\n",
    "        function_call = 'auto'\n",
    "    )\n",
    "\n",
    "    # Loading the response as a JSON object\n",
    "    json_response = json.loads(response.choices[0].message.function_call.arguments)\n",
    "    print(json_response)"
   ]
  },
  {
   "cell_type": "code",
   "execution_count": 15,
   "id": "f2ab49e1-e202-4ae9-90db-5390bcf6958f",
   "metadata": {},
   "outputs": [],
   "source": [
    "def extract_student_info(name, major, school, grades, club):\n",
    "    \n",
    "    \"\"\"Get the student information\"\"\"\n",
    "\n",
    "    return f\"{name} is majoring in {major} at {school}. He has {grades} GPA and he is an active member of the university's {club}.\"\n",
    "\n",
    "def extract_school_info(name, ranking, country, no_of_students):\n",
    "    \n",
    "    \"\"\"Get the school information\"\"\"\n",
    "\n",
    "    return f\"{name} is located in the {country}. The university is ranked #{ranking} in the world with {no_of_students} students.\""
   ]
  },
  {
   "cell_type": "code",
   "execution_count": 25,
   "id": "d42b69ae-abec-4e70-9f5f-6e30dca753a6",
   "metadata": {},
   "outputs": [
    {
     "name": "stdout",
     "output_type": "stream",
     "text": [
      "ChatCompletionMessage(content=None, role='assistant', function_call=FunctionCall(arguments='{\"name\":\"David Nguyen\",\"major\":\"computer science\",\"school\":\"Stanford University\",\"grades\":3.8,\"club\":\"Robotics Club\"}', name='extract_student_info'), tool_calls=None)\n"
     ]
    }
   ],
   "source": [
    "descriptions = [\n",
    "    student_1_description, \n",
    "    \"Who was a Abraham Lincoln?\",\n",
    "    school_1_description\n",
    "                ]\n",
    "\n",
    "for i, sample in enumerate(descriptions):\n",
    "    response = client.chat.completions.create(\n",
    "        model = 'gpt-3.5-turbo',\n",
    "        messages = [{'role': 'user', 'content': sample}],\n",
    "        functions = custom_functions,\n",
    "        function_call = 'auto'\n",
    "    )\n",
    "    \n",
    "    response_message = response.choices[0].message\n",
    "    print(response_message)\n",
    "    break\n",
    "    if dict(response_message).get('function_call'):\n",
    "        \n",
    "        # Which function call was invoked\n",
    "        function_called = response_message.function_call.name\n",
    "        \n",
    "        # Extracting the arguments\n",
    "        function_args  = json.loads(response_message.function_call.arguments)\n",
    "        \n",
    "        # Function names\n",
    "        available_functions = {\n",
    "            \"extract_school_info\": extract_school_info,\n",
    "            \"extract_student_info\": extract_student_info\n",
    "        }\n",
    "        \n",
    "        fuction_to_call = available_functions[function_called]\n",
    "        response_message = fuction_to_call(*list(function_args.values()))\n",
    "        \n",
    "    else:\n",
    "        response_message = response_message.content\n",
    "    \n",
    "    print(f\"\\nSample#{i+1}\\n\")\n",
    "    print(response_message)"
   ]
  },
  {
   "cell_type": "code",
   "execution_count": 26,
   "id": "17e4f7e9-5690-4077-8a61-d41a5582fd08",
   "metadata": {},
   "outputs": [
    {
     "data": {
      "text/plain": [
       "'extract_student_info'"
      ]
     },
     "execution_count": 26,
     "metadata": {},
     "output_type": "execute_result"
    }
   ],
   "source": [
    "function_called = response_message.function_call.name\n",
    "function_called"
   ]
  },
  {
   "cell_type": "code",
   "execution_count": 27,
   "id": "a8940fc9-ab4e-49da-903c-54315debf810",
   "metadata": {},
   "outputs": [],
   "source": [
    "function_args  = json.loads(response_message.function_call.arguments)\n"
   ]
  },
  {
   "cell_type": "code",
   "execution_count": 28,
   "id": "9ab79807-4e70-4fe6-919c-80fd1cac14f8",
   "metadata": {},
   "outputs": [
    {
     "data": {
      "text/plain": [
       "{'name': 'David Nguyen',\n",
       " 'major': 'computer science',\n",
       " 'school': 'Stanford University',\n",
       " 'grades': 3.8,\n",
       " 'club': 'Robotics Club'}"
      ]
     },
     "execution_count": 28,
     "metadata": {},
     "output_type": "execute_result"
    }
   ],
   "source": [
    "\n",
    "function_args"
   ]
  },
  {
   "cell_type": "code",
   "execution_count": 29,
   "id": "b9ce2e20-6c24-4875-b5d0-2e9f4f58b9f4",
   "metadata": {},
   "outputs": [],
   "source": [
    " available_functions = {\n",
    "            \"extract_school_info\": extract_school_info,\n",
    "            \"extract_student_info\": extract_student_info\n",
    "        }\n",
    "        "
   ]
  },
  {
   "cell_type": "code",
   "execution_count": 30,
   "id": "d13d4817-b253-4346-bf28-afb2c08c2188",
   "metadata": {},
   "outputs": [],
   "source": [
    "fuction_to_call = available_functions[function_called]"
   ]
  },
  {
   "cell_type": "code",
   "execution_count": 32,
   "id": "001ba5af-db99-413d-9b84-cd7297d22031",
   "metadata": {},
   "outputs": [
    {
     "data": {
      "text/plain": [
       "\"David Nguyen is majoring in computer science at Stanford University. He has 3.8 GPA and he is an active member of the university's Robotics Club.\""
      ]
     },
     "execution_count": 32,
     "metadata": {},
     "output_type": "execute_result"
    }
   ],
   "source": [
    "fuction_to_call(*list(function_args .values()))"
   ]
  },
  {
   "cell_type": "code",
   "execution_count": null,
   "id": "f4f108e7-3ead-4c7f-92a6-70cdae24f20b",
   "metadata": {},
   "outputs": [],
   "source": []
  }
 ],
 "metadata": {
  "kernelspec": {
   "display_name": "Python 3 (ipykernel)",
   "language": "python",
   "name": "python3"
  },
  "language_info": {
   "codemirror_mode": {
    "name": "ipython",
    "version": 3
   },
   "file_extension": ".py",
   "mimetype": "text/x-python",
   "name": "python",
   "nbconvert_exporter": "python",
   "pygments_lexer": "ipython3",
   "version": "3.12.3"
  }
 },
 "nbformat": 4,
 "nbformat_minor": 5
}
